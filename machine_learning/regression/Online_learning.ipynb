{
 "cells": [
  {
   "cell_type": "code",
   "execution_count": 1,
   "metadata": {
    "collapsed": true
   },
   "outputs": [],
   "source": [
    "%matplotlib inline\n",
    "import numpy as np\n",
    "import pandas as pd\n",
    "import matplotlib.pyplot as plt\n",
    "import seaborn as sns"
   ]
  },
  {
   "cell_type": "code",
   "execution_count": 2,
   "metadata": {
    "collapsed": true
   },
   "outputs": [],
   "source": [
    "from sklearn.utils import shuffle"
   ]
  },
  {
   "cell_type": "code",
   "execution_count": 3,
   "metadata": {
    "collapsed": false
   },
   "outputs": [],
   "source": [
    "n = 50\n",
    "x = np.random.randn(2*n).reshape((n, 2))\n",
    "x[:n/2, 0] = x[:n/2, 0] -15\n",
    "x[n/2:, 0] = x[n/2:, 0] -5\n",
    "x[:2, 0] = x[:2, 0] + 10\n",
    "y = np.array([1] * (n/2) + [-1] * (n/2))"
   ]
  },
  {
   "cell_type": "code",
   "execution_count": 4,
   "metadata": {
    "collapsed": false
   },
   "outputs": [],
   "source": [
    "class OnlineOptimizer(object):\n",
    "    def __init__(self, gamma = 0.1):\n",
    "        #initialize weight & covariance\n",
    "        self.weight = np.random.uniform(low = -1, high = 1, size = (3,))\n",
    "        self.cov = np.eye(3)\n",
    "        self.gamma = gamma\n",
    "        \n",
    "    def _add_bias(self, X):\n",
    "        return np.append(X, [1])\n",
    "    \n",
    "    def dot(self, X):\n",
    "        return np.matmul(self.weight.transpose(), X)\n",
    "    \n",
    "    def beta(self, X):\n",
    "        tmp =  np.matmul(X.transpose(), self.cov)\n",
    "        return np.matmul(tmp, X) + self.gamma\n",
    "    \n",
    "    def predict(self, X):\n",
    "        dot = self.dot(X)\n",
    "        return 1 if dot > 0 else -1\n",
    "    \n",
    "    def update(self, X, y):\n",
    "        X_ = self._add_bias(X)\n",
    "        dot = self.dot(X_)\n",
    "        beta = self.beta(X_)\n",
    "        #print(dot)\n",
    "        #print(beta)\n",
    "        #update weight & cov\n",
    "        self.weight = self.weight + (y * max(0, 1 - y * dot) / beta) * np.matmul(self.cov, X_)\n",
    "        self.cov = self.cov - np.matmul(np.matmul(self.cov , X_).reshape((3,1)), np.matmul(X_.transpose(), self.cov).reshape((1,3))) / beta\n",
    "        #print(self.weight)\n",
    "        #print(self.cov)"
   ]
  },
  {
   "cell_type": "code",
   "execution_count": 5,
   "metadata": {
    "collapsed": false
   },
   "outputs": [],
   "source": [
    "X, y = shuffle(x, y)\n",
    "clf = OnlineOptimizer()\n",
    "epochs = 100\n",
    "for i in range(epochs):\n",
    "    for X_, y_ in zip(X, y):\n",
    "        clf.update(X_, y_)"
   ]
  },
  {
   "cell_type": "code",
   "execution_count": 6,
   "metadata": {
    "collapsed": false
   },
   "outputs": [
    {
     "data": {
      "text/plain": [
       "array([-0.19515842, -0.02624338, -1.81540608])"
      ]
     },
     "execution_count": 6,
     "metadata": {},
     "output_type": "execute_result"
    }
   ],
   "source": [
    "clf.weight"
   ]
  },
  {
   "cell_type": "code",
   "execution_count": 10,
   "metadata": {
    "collapsed": false
   },
   "outputs": [
    {
     "data": {
      "text/plain": [
       "(-5, 5)"
      ]
     },
     "execution_count": 10,
     "metadata": {},
     "output_type": "execute_result"
    },
    {
     "data": {
      "image/png": "[encoded data removed]",
      "text/plain": [
       "<matplotlib.figure.Figure at 0x11a2de790>"
      ]
     },
     "metadata": {},
     "output_type": "display_data"
    }
   ],
   "source": [
    "def clf_boundary(x):\n",
    "    return (clf.weight[0] * x + clf.weight[2]) / clf.weight[1]\n",
    "\n",
    "fig, ax = plt.subplots()\n",
    "\n",
    "ax.scatter(X[:,0], X[:,1], c = y)\n",
    "boundary = pd.Series(clf_boundary(np.arange(-15, -5, 0.5)), index = np.arange(-15, -5, 0.5))\n",
    "boundary.plot(ax = ax)\n",
    "\n",
    "ax.set_xlim(-16, -4)\n",
    "ax.set_ylim(-5, 5)"
   ]
  },
  {
   "cell_type": "code",
   "execution_count": null,
   "metadata": {
    "collapsed": true
   },
   "outputs": [],
   "source": []
  }
 ],
 "metadata": {
  "anaconda-cloud": {},
  "kernelspec": {
   "display_name": "Python [conda root]",
   "language": "python",
   "name": "conda-root-py"
  },
  "language_info": {
   "codemirror_mode": {
    "name": "ipython",
    "version": 2
   },
   "file_extension": ".py",
   "mimetype": "text/x-python",
   "name": "python",
   "nbconvert_exporter": "python",
   "pygments_lexer": "ipython2",
   "version": "2.7.12"
  }
 },
 "nbformat": 4,
 "nbformat_minor": 1
}
